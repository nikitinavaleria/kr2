{
 "cells": [
  {
   "cell_type": "markdown",
   "metadata": {},
   "source": [
    "# КР2"
   ]
  },
  {
   "cell_type": "code",
   "execution_count": 1,
   "metadata": {},
   "outputs": [],
   "source": [
    "import pandas as pd\n",
    "import numpy as np\n",
    "from sklearn.model_selection import train_test_split\n",
    "from sklearn.preprocessing import PolynomialFeatures\n",
    "from sklearn.tree import DecisionTreeRegressor\n",
    "from sklearn.model_selection import KFold\n",
    "from sklearn.linear_model import LinearRegression\n",
    "from sklearn.metrics import mean_absolute_error"
   ]
  },
  {
   "cell_type": "code",
   "execution_count": 2,
   "metadata": {},
   "outputs": [],
   "source": [
    "data = pd.read_csv(\"house_price_regression_dataset.csv\")\n",
    "\n",
    "X = data.drop(columns=[\"House_Price\"])\n",
    "y = data[\"House_Price\"]\n",
    "\n",
    "X_train, X_test, y_train, y_test = train_test_split(X, y, test_size=0.25)\n",
    "X_train.reset_index(inplace=True)\n",
    "X_test.reset_index(inplace=True)\n",
    "y_train = y_train.reset_index()[\"House_Price\"]\n",
    "y_test = y_test.reset_index()[\"House_Price\"]"
   ]
  },
  {
   "cell_type": "markdown",
   "metadata": {},
   "source": [
    "## Бустинг. - 6 баллов\n",
    "В существующий код бустинга добавьте возможность ранней остановки обучения. \n",
    "должны быть учтены:\n",
    "1) Наличие валидационного датасета (либо разделение должно быть внутри класса, либо вне его, а в обучении новый набор будет подаваться отдельной парой)\n",
    "2) Кастомная метрика или лосс для оствновки. Должна передаваться в виде доп. параметра. Дефолт - лосс функция для расчета градиента.\n",
    "3) Укажите, сколько должно пройти итераций для ранней остановки. \n",
    "4) После обучения должно вернуться лучшее состояние модели по валидационной выборке, а не то, которое было достинуто при остановке обучения. \n",
    "\n",
    "Для обучения используйте тот же датасет, что использовался на 8 семинаре (house_price_regression_dataset).\n",
    "1 и 3 пункты обязательны - 3 балла. 2 пункт - 1 балл (при недефолтной реализации). 4 пункт - 2 балла."
   ]
  },
  {
   "cell_type": "code",
   "execution_count": 3,
   "metadata": {},
   "outputs": [],
   "source": [
    "class MyGradientRegressor:\n",
    "    def __init__(self, n_estimators: int = 300, max_depth: int = 3, lr: float = 0.1):\n",
    "        self.n_estimators = n_estimators\n",
    "        self.max_depth = max_depth\n",
    "        self.lr = lr\n",
    "        self.estimators = []  \n",
    "\n",
    "    def fit(self, X, y, eval_metric=None, early_stopping_rounds: int = 10, validation_fraction: float = 0.2):\n",
    "        X = np.array(X)\n",
    "        y = np.array(y)\n",
    "        \n",
    "        # разбиение на трен и вал\n",
    "        n_samples = X.shape[0]\n",
    "        indices = np.arange(n_samples)\n",
    "        np.random.shuffle(indices)\n",
    "        split_idx = int(n_samples * (1 - validation_fraction))\n",
    "        train_idx = indices[:split_idx]\n",
    "        val_idx = indices[split_idx:]\n",
    "        X_train, y_train = X[train_idx], y[train_idx]\n",
    "        X_val, y_val = X[val_idx], y[val_idx]\n",
    "        \n",
    "        # дефолт метрика\n",
    "        if eval_metric is None:\n",
    "            eval_metric = lambda y_true, y_pred: np.mean((y_true - y_pred) ** 2)  \n",
    "        \n",
    "        self.estimators = []  \n",
    "        predictions = np.zeros_like(y_train, dtype=float)  \n",
    "        val_predictions = np.zeros_like(y_val, dtype=float)  \n",
    "        best_score = float('inf')\n",
    "        best_estimators = None\n",
    "        rounds_without_improve = 0\n",
    "\n",
    "        for i in range(self.n_estimators):\n",
    "            new_model = DecisionTreeRegressor(max_depth=self.max_depth)\n",
    "            new_target = -2 * (predictions - y_train)\n",
    "            new_model.fit(X_train, new_target)\n",
    "            self.estimators.append(new_model)\n",
    "            predictions += self.lr * new_model.predict(X_train)\n",
    "            val_predictions += self.lr * new_model.predict(X_val)\n",
    "            \n",
    "            current_score = eval_metric(y_val, val_predictions)\n",
    "            if current_score < best_score:\n",
    "                best_score = current_score\n",
    "                best_estimators = self.estimators.copy()  \n",
    "                rounds_without_improve = 0\n",
    "            else:\n",
    "                rounds_without_improve += 1\n",
    "            \n",
    "            # остановка\n",
    "            if rounds_without_improve >= early_stopping_rounds:\n",
    "                print(f\"Остановка на итерации {i+1} с метрикой на валидации: {best_score}\")\n",
    "                self.estimators = best_estimators  \n",
    "                return\n",
    "        \n",
    "        print(f\"Обучение завершено без остановки с метрикой на валидации: {best_score}\")\n",
    "\n",
    "    def predict(self, X_test):\n",
    "        X_test = np.array(X_test)\n",
    "        curr_pred = 0\n",
    "        for est in self.estimators:\n",
    "            curr_pred += self.lr * est.predict(X_test)\n",
    "        return curr_pred"
   ]
  },
  {
   "cell_type": "code",
   "execution_count": 4,
   "metadata": {},
   "outputs": [
    {
     "name": "stdout",
     "output_type": "stream",
     "text": [
      "Остановка на итерации 97 с метрикой на валидации: 291440680.66494006\n",
      "14134.788195036923\n"
     ]
    }
   ],
   "source": [
    "my_model = MyGradientRegressor(n_estimators=300, max_depth=3, lr=0.1)\n",
    "my_model.fit(X_train, y_train, eval_metric=None, early_stopping_rounds=10, validation_fraction=0.25)\n",
    "pred = my_model.predict(X_test)\n",
    "print(mean_absolute_error(y_test, pred))"
   ]
  },
  {
   "cell_type": "markdown",
   "metadata": {},
   "source": [
    "## Стекинг - 4 балла\n",
    "В текущей реализации в качестве признаков для метамодели используются предсказания базовых моделей.\n",
    "Ваша задача добавить возможность дополнительно учитывать исходные данные в качестве признаков (гиперпараметр). \n",
    "Метапризнаки как доп. фичи к основным.\n",
    "При этом на основные признаки добавляется воможность расчета полиномиальных признаков (https://scikit-learn.org/stable/modules/generated/sklearn.preprocessing.PolynomialFeatures.html)\n",
    "\n",
    "Для тестирования используйте тот же датасет"
   ]
  },
  {
   "cell_type": "code",
   "execution_count": 5,
   "metadata": {},
   "outputs": [],
   "source": [
    "class Stacking:\n",
    "    def __init__(self, estimators, meta_estimator, folds=5, include_original_features=False, poly_degree=1):\n",
    "        self.estimators = estimators\n",
    "        self.meta_estimator = meta_estimator\n",
    "        self.folds = folds\n",
    "        self.include_original_features = include_original_features  \n",
    "        self.meta_train = []\n",
    "        self.poly_degree = poly_degree\n",
    "        \n",
    "        # если используем исходные признаки \n",
    "        if self.include_original_features and self.poly_degree > 1:\n",
    "            self.poly_transformer = PolynomialFeatures(degree=self.poly_degree, include_bias=False)\n",
    "        else:\n",
    "            self.poly_transformer = None\n",
    "        \n",
    "    def _fit_estimator(self, estimator, X_train, y_train):\n",
    "        kf = KFold(n_splits=self.folds, shuffle=True)\n",
    "        train_fold_indices = []\n",
    "        test_fold_indices = []\n",
    "        test_fold_predicts = []\n",
    "\n",
    "        for train_idx, test_idx in kf.split(X_train):\n",
    "            train_fold_indices.extend(train_idx)\n",
    "            test_fold_indices.extend(test_idx)\n",
    "\n",
    "            estimator.fit(X_train[train_idx], y_train[train_idx])\n",
    "            test_fold_predicts.extend(estimator.predict(X_train[test_idx]))\n",
    "\n",
    "        estimator.fit(X_train, y_train)\n",
    "        self.meta_train.append(np.array(test_fold_predicts)[np.argsort(test_fold_indices)])\n",
    "\n",
    "    def fit(self, X_train, y_train):\n",
    "        X_train = np.array(X_train)\n",
    "        y_train = np.array(y_train)\n",
    "        self.meta_train = []\n",
    "\n",
    "        for estimator in self.estimators:\n",
    "            self._fit_estimator(estimator, X_train, y_train)\n",
    "\n",
    "        self.meta_train = np.array(self.meta_train).transpose()  \n",
    "\n",
    "        # если используем исходные признаки \n",
    "        if self.include_original_features:\n",
    "            if self.poly_transformer is not None:\n",
    "                X_transformed = self.poly_transformer.fit_transform(X_train)\n",
    "            else:\n",
    "                X_transformed = X_train\n",
    "            self.meta_train = np.hstack([self.meta_train, X_transformed])\n",
    "        \n",
    "        self.meta_estimator.fit(self.meta_train, y_train)\n",
    "\n",
    "    def predict(self, X_test):\n",
    "        X_test = np.array(X_test)\n",
    "        meta_features = np.array([estimator.predict(X_test) for estimator in self.estimators]).transpose()\n",
    "        \n",
    "        # если используем исходные признаки \n",
    "        if self.include_original_features:\n",
    "            if self.poly_transformer is not None:\n",
    "                X_transformed = self.poly_transformer.transform(X_test)\n",
    "            else:\n",
    "                X_transformed = X_test\n",
    "            meta_features = np.hstack([meta_features, X_transformed])\n",
    "        \n",
    "        return self.meta_estimator.predict(meta_features)\n"
   ]
  },
  {
   "cell_type": "code",
   "execution_count": 6,
   "metadata": {},
   "outputs": [
    {
     "name": "stdout",
     "output_type": "stream",
     "text": [
      "8299.40173212301\n"
     ]
    }
   ],
   "source": [
    "model = Stacking(\n",
    "    estimators=[\n",
    "        LinearRegression(),\n",
    "        DecisionTreeRegressor(max_depth=3),\n",
    "        DecisionTreeRegressor(max_depth=3),\n",
    "    ],\n",
    "    meta_estimator=LinearRegression(), include_original_features=True, poly_degree=1)\n",
    "\n",
    "model.fit(X_train, y_train)\n",
    "y_pred = model.predict(X_test)\n",
    "print(mean_absolute_error(y_test, y_pred))"
   ]
  }
 ],
 "metadata": {
  "kernelspec": {
   "display_name": "Python 3 (ipykernel)",
   "language": "python",
   "name": "python3"
  },
  "language_info": {
   "codemirror_mode": {
    "name": "ipython",
    "version": 3
   },
   "file_extension": ".py",
   "mimetype": "text/x-python",
   "name": "python",
   "nbconvert_exporter": "python",
   "pygments_lexer": "ipython3",
   "version": "3.10.12"
  },
  "widgets": {
   "application/vnd.jupyter.widget-state+json": {
    "state": {},
    "version_major": 2,
    "version_minor": 0
   }
  }
 },
 "nbformat": 4,
 "nbformat_minor": 4
}
